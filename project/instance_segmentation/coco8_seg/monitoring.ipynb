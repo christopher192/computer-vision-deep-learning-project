{
 "cells": [
  {
   "cell_type": "code",
   "execution_count": 28,
   "metadata": {},
   "outputs": [],
   "source": [
    "# import libraries\n",
    "import os\n",
    "import torch\n",
    "import torch.nn as nn\n",
    "import torch.optim as optim\n",
    "from torch.utils.data import DataLoader\n",
    "from torchvision import datasets, transforms\n",
    "from torchvision.models import resnet50, ResNet50_Weights\n",
    "from PIL import Image\n",
    "import numpy as np\n",
    "from scipy import stats\n",
    "from scipy.stats import wasserstein_distance\n",
    "from skimage.io import imread\n",
    "from skimage.color import rgb2gray\n",
    "from skimage.transform import resize\n",
    "import matplotlib.pyplot as plt\n",
    "from pathlib import Path\n",
    "from sklearn.model_selection import train_test_split"
   ]
  },
  {
   "cell_type": "code",
   "execution_count": 3,
   "metadata": {},
   "outputs": [],
   "source": [
    "# function to extract image metadata\n",
    "def get_image_metadata(image):\n",
    "    # get width and height of image\n",
    "    with Image.open(image) as img:\n",
    "        width, height = img.size\n",
    "\n",
    "    # calculate image ratio and area\n",
    "    ratio = width / height\n",
    "    area = width * height\n",
    "\n",
    "    # print the metadata\n",
    "    print(f\"image width: {width}\")\n",
    "    print(f\"image height: {height}\")\n",
    "    print(f\"image ratio: {ratio}\")\n",
    "    print(f\"image area: {area}\")"
   ]
  },
  {
   "cell_type": "markdown",
   "metadata": {},
   "source": [
    "#### Image metadata"
   ]
  },
  {
   "cell_type": "code",
   "execution_count": null,
   "metadata": {},
   "outputs": [],
   "source": []
  },
  {
   "cell_type": "markdown",
   "metadata": {},
   "source": [
    "#### AE Outlier Score"
   ]
  },
  {
   "cell_type": "code",
   "execution_count": 7,
   "metadata": {},
   "outputs": [
    {
     "name": "stdout",
     "output_type": "stream",
     "text": [
      "Files already downloaded and verified\n",
      "Files already downloaded and verified\n"
     ]
    }
   ],
   "source": [
    "# step 1: load cifar-10 dataset\n",
    "transform = transforms.Compose([\n",
    "    transforms.ToTensor(),\n",
    "])\n",
    "\n",
    "train_dataset = datasets.CIFAR10(root = 'data', train = True, download = True, transform = transform)\n",
    "test_dataset = datasets.CIFAR10(root = 'data', train = False, download = True, transform = transform)\n",
    "\n",
    "train_loader = DataLoader(train_dataset, batch_size = 64, shuffle = True)\n",
    "test_loader = DataLoader(test_dataset, batch_size = 64, shuffle = False)"
   ]
  },
  {
   "cell_type": "code",
   "execution_count": 17,
   "metadata": {},
   "outputs": [],
   "source": [
    "# step 2: define the autoencoder architecture\n",
    "class Autoencoder(nn.Module):\n",
    "    def __init__(self, encoding_dim):\n",
    "        super(Autoencoder, self).__init__()\n",
    "\n",
    "        # encoder\n",
    "        self.encoder = nn.Sequential(\n",
    "            nn.Conv2d(3, 64, 4, stride = 2, padding = 1),\n",
    "            nn.ReLU(),\n",
    "            nn.Conv2d(64, 128, 4, stride = 2, padding = 1),\n",
    "            nn.ReLU(),\n",
    "            nn.Conv2d(128, 512, 4, stride = 2, padding = 1),\n",
    "            nn.ReLU(),\n",
    "            nn.Flatten(),\n",
    "            nn.Linear(4 * 4 * 512, encoding_dim)\n",
    "        )\n",
    "\n",
    "        # decoder\n",
    "        self.decoder = nn.Sequential(\n",
    "            nn.Linear(encoding_dim, 4 * 4 * 128),\n",
    "            nn.Unflatten(1, (128, 4, 4)),\n",
    "            nn.ConvTranspose2d(128, 256, 4, stride = 2, padding = 1),\n",
    "            nn.ReLU(),\n",
    "            nn.ConvTranspose2d(256, 64, 4, stride = 2, padding = 1),\n",
    "            nn.ReLU(),\n",
    "            nn.ConvTranspose2d(64, 3, 4, stride = 2, padding = 1),\n",
    "            nn.Sigmoid(),\n",
    "        )\n",
    "\n",
    "    def forward(self, x):\n",
    "        encoded = self.encoder(x)\n",
    "        decoded = self.decoder(encoded)\n",
    "        return decoded"
   ]
  },
  {
   "cell_type": "code",
   "execution_count": 9,
   "metadata": {},
   "outputs": [
    {
     "name": "stdout",
     "output_type": "stream",
     "text": [
      "Epoch [1/20], Loss: 0.0088\n",
      "Epoch [2/20], Loss: 0.0061\n",
      "Epoch [3/20], Loss: 0.0049\n",
      "Epoch [4/20], Loss: 0.0053\n",
      "Epoch [5/20], Loss: 0.0052\n",
      "Epoch [6/20], Loss: 0.0044\n",
      "Epoch [7/20], Loss: 0.0049\n",
      "Epoch [8/20], Loss: 0.0044\n",
      "Epoch [9/20], Loss: 0.0042\n",
      "Epoch [10/20], Loss: 0.0047\n",
      "Epoch [11/20], Loss: 0.0049\n",
      "Epoch [12/20], Loss: 0.0042\n",
      "Epoch [13/20], Loss: 0.0044\n",
      "Epoch [14/20], Loss: 0.0037\n",
      "Epoch [15/20], Loss: 0.0041\n",
      "Epoch [16/20], Loss: 0.0051\n",
      "Epoch [17/20], Loss: 0.0032\n",
      "Epoch [18/20], Loss: 0.0033\n",
      "Epoch [19/20], Loss: 0.0037\n",
      "Epoch [20/20], Loss: 0.0044\n"
     ]
    }
   ],
   "source": [
    "# step 3: train the autoencoder\n",
    "device = torch.device(\"cuda\" if torch.cuda.is_available() else \"cpu\")\n",
    "encoding_dim = 128\n",
    "num_epochs = 20\n",
    "learning_rate = 1e-3\n",
    "\n",
    "model = Autoencoder(encoding_dim).to(device)\n",
    "criterion = nn.MSELoss()\n",
    "optimizer = optim.Adam(model.parameters(), lr = learning_rate)\n",
    "\n",
    "for epoch in range(num_epochs):\n",
    "    model.train()\n",
    "    for data, _ in train_loader:\n",
    "        data = data.to(device)\n",
    "        outputs = model(data)\n",
    "        loss = criterion(outputs, data)\n",
    "        optimizer.zero_grad()\n",
    "        loss.backward()\n",
    "        optimizer.step()\n",
    "\n",
    "    print(f'epoch [{epoch + 1}/{num_epochs}], loss: {loss.item():.4f}')"
   ]
  },
  {
   "cell_type": "code",
   "execution_count": 16,
   "metadata": {},
   "outputs": [
    {
     "name": "stdout",
     "output_type": "stream",
     "text": [
      "Autoencoder(\n",
      "  (encoder): Sequential(\n",
      "    (0): Conv2d(3, 64, kernel_size=(4, 4), stride=(2, 2), padding=(1, 1))\n",
      "    (1): ReLU()\n",
      "    (2): Conv2d(64, 128, kernel_size=(4, 4), stride=(2, 2), padding=(1, 1))\n",
      "    (3): ReLU()\n",
      "    (4): Conv2d(128, 512, kernel_size=(4, 4), stride=(2, 2), padding=(1, 1))\n",
      "    (5): ReLU()\n",
      "    (6): Flatten(start_dim=1, end_dim=-1)\n",
      "    (7): Linear(in_features=8192, out_features=128, bias=True)\n",
      "  )\n",
      "  (decoder): Sequential(\n",
      "    (0): Linear(in_features=128, out_features=2048, bias=True)\n",
      "    (1): Unflatten(dim=1, unflattened_size=(128, 4, 4))\n",
      "    (2): ConvTranspose2d(128, 256, kernel_size=(4, 4), stride=(2, 2), padding=(1, 1))\n",
      "    (3): ReLU()\n",
      "    (4): ConvTranspose2d(256, 64, kernel_size=(4, 4), stride=(2, 2), padding=(1, 1))\n",
      "    (5): ReLU()\n",
      "    (6): ConvTranspose2d(64, 3, kernel_size=(4, 4), stride=(2, 2), padding=(1, 1))\n",
      "    (7): Sigmoid()\n",
      "  )\n",
      ")\n"
     ]
    }
   ],
   "source": [
    "print(model)"
   ]
  },
  {
   "cell_type": "code",
   "execution_count": 15,
   "metadata": {},
   "outputs": [
    {
     "name": "stdout",
     "output_type": "stream",
     "text": [
      "0.010008323704823852\n",
      "number of outliers detected: 308\n"
     ]
    },
    {
     "data": {
      "image/png": "[encoded data removed]",
      "text/plain": [
       "<Figure size 640x480 with 1 Axes>"
      ]
     },
     "metadata": {},
     "output_type": "display_data"
    }
   ],
   "source": [
    "# step 4: calculate outlier score\n",
    "def calculate_outlier_scores(model, data_loader):\n",
    "    model.eval()\n",
    "    scores = []\n",
    "    with torch.no_grad():\n",
    "        for data, _ in data_loader:\n",
    "            data = data.to(device)\n",
    "            outputs = model(data)\n",
    "            loss = nn.functional.mse_loss(outputs, data, reduction = 'none')\n",
    "            loss = loss.view(loss.size(0), -1).mean(dim = 1)\n",
    "            scores.extend(loss.cpu().numpy())\n",
    "    return np.array(scores)\n",
    "\n",
    "test_loader = DataLoader(test_dataset, batch_size = 64, shuffle = False)\n",
    "\n",
    "# calculate reconstruction error on the training set\n",
    "train_reconstruction_error = calculate_outlier_scores(model, train_loader)\n",
    "\n",
    "# determine a threshold for outlier\n",
    "threshold = np.mean(train_reconstruction_error) + 3 * np.std(train_reconstruction_error)\n",
    "\n",
    "# calculate reconstruction error on the test set\n",
    "test_reconstruction_errors = calculate_outlier_scores(model, test_loader)\n",
    "\n",
    "# identify outlier\n",
    "outliers = test_reconstruction_errors > threshold\n",
    "\n",
    "# print outlier\n",
    "print(\"number of outliers detected:\", np.sum(outliers))\n",
    "\n",
    "# plot reconstruction error histogram\n",
    "plt.hist(test_reconstruction_errors, bins = 50, alpha = 0.75)\n",
    "plt.axvline(threshold, color = 'r', linestyle = 'dashed', linewidth = 1)\n",
    "plt.xlabel('reconstruction error')\n",
    "plt.ylabel('frequency')\n",
    "plt.title('reconstruction error histogram')\n",
    "plt.show()"
   ]
  },
  {
   "cell_type": "markdown",
   "metadata": {},
   "source": [
    "#### KS Drift"
   ]
  },
  {
   "cell_type": "code",
   "execution_count": null,
   "metadata": {},
   "outputs": [],
   "source": []
  },
  {
   "cell_type": "markdown",
   "metadata": {},
   "source": [
    "#### Data Drift"
   ]
  },
  {
   "cell_type": "markdown",
   "metadata": {},
   "source": [
    "Wasserstein`s Distance"
   ]
  },
  {
   "cell_type": "code",
   "execution_count": 31,
   "metadata": {},
   "outputs": [
    {
     "name": "stdout",
     "output_type": "stream",
     "text": [
      "wasserstein distance:  0.009581090411415048\n",
      "feature distributions are similar\n"
     ]
    }
   ],
   "source": [
    "# 1. load a pre-trained model\n",
    "model = resnet50(weights = ResNet50_Weights.IMAGENET1K_V2)\n",
    "\n",
    "# remove the final fully connected layer\n",
    "model = nn.Sequential(*list(model.children())[:-1])\n",
    "model.eval()\n",
    "\n",
    "# define the image transformation\n",
    "preprocess = transforms.Compose([\n",
    "    transforms.Resize(256),\n",
    "    transforms.ToTensor(),\n",
    "    transforms.Normalize(\n",
    "        mean = [0.485, 0.456, 0.406],\n",
    "        std = [0.229, 0.224, 0.225]\n",
    "    ),\n",
    "])\n",
    "\n",
    "def extract_features(img_path):\n",
    "    img = Image.open(img_path).convert('RGB')\n",
    "    img = preprocess(img)\n",
    "\n",
    "    # add batch dimension\n",
    "    img = img.unsqueeze(0)\n",
    "\n",
    "    with torch.no_grad():\n",
    "        features = model(img)\n",
    "\n",
    "    return features.flatten().numpy()\n",
    "\n",
    "# 2. extract features from images\n",
    "def compute_feature_distribution(image_paths):\n",
    "    features_list = [extract_features(img_path) for img_path in image_paths]\n",
    "\n",
    "    return np.array(features_list)\n",
    "\n",
    "data_path =  Path('../../../dataset/ram_module')\n",
    "image_path = data_path / 'image'\n",
    "\n",
    "coco_data_path =  Path('../../../dataset/coco8-seg')\n",
    "coco_training_image_path = coco_data_path / 'train/images'\n",
    "coco_validation_image_path = coco_data_path / 'valid/images'\n",
    "\n",
    "# collect all image paths\n",
    "image_paths = [os.path.join(dirpath, filename) for dirpath, dirnames, filenames in os.walk(image_path) for filename in filenames]\n",
    "coco_training_image_path = [os.path.join(dirpath, filename) for dirpath, dirnames, filenames in os.walk(coco_training_image_path) for filename in filenames]\n",
    "coco_validation_image_path = [os.path.join(dirpath, filename) for dirpath, dirnames, filenames in os.walk(coco_validation_image_path) for filename in filenames]\n",
    "\n",
    "# split the data into training and validation sets\n",
    "# 50% training, 50% validation\n",
    "train_image_paths, validation_image_paths = train_test_split(image_paths, test_size = 0.5, random_state = 42)\n",
    "\n",
    "# extract features\n",
    "train_features = compute_feature_distribution(train_image_paths)\n",
    "validation_features = compute_feature_distribution(validation_image_paths)\n",
    "coco_training_features = compute_feature_distribution(coco_training_image_path)\n",
    "coco_validation_features = compute_feature_distribution(coco_validation_image_path)\n",
    "\n",
    "# 3. calculate wasserstein`s distance\n",
    "# flatten the feature arrays\n",
    "train_features_flattened = train_features.flatten()\n",
    "validation_features_flattened = validation_features.flatten()\n",
    "coco_training_features_flattened = coco_training_features.flatten()\n",
    "coco_validation_features_flattened = coco_validation_features.flatten()\n",
    "\n",
    "# calculate wasserstein's distance\n",
    "distance = wasserstein_distance(train_features_flattened, coco_validation_features_flattened)\n",
    "\n",
    "print(\"wasserstein distance: \", distance)\n",
    "\n",
    "# 4. set threshold\n",
    "threshold = 0.1\n",
    "\n",
    "if distance > threshold:\n",
    "    print(\"feature distributions are significantly different\")\n",
    "else:\n",
    "    print(\"feature distributions are similar\")"
   ]
  },
  {
   "cell_type": "markdown",
   "metadata": {},
   "source": [
    "Kullback — Leibler divergence (KL divergence)"
   ]
  },
  {
   "cell_type": "markdown",
   "metadata": {},
   "source": [
    "Population Stability Index (PSI)"
   ]
  },
  {
   "cell_type": "markdown",
   "metadata": {},
   "source": [
    "#### Concept Drift"
   ]
  },
  {
   "cell_type": "markdown",
   "metadata": {},
   "source": [
    "#### Domain Shift"
   ]
  },
  {
   "cell_type": "markdown",
   "metadata": {},
   "source": [
    "#### Prediction Drift"
   ]
  },
  {
   "cell_type": "markdown",
   "metadata": {},
   "source": [
    "#### Upstream Drift"
   ]
  }
 ],
 "metadata": {
  "kernelspec": {
   "display_name": "pytorch",
   "language": "python",
   "name": "python3"
  },
  "language_info": {
   "codemirror_mode": {
    "name": "ipython",
    "version": 3
   },
   "file_extension": ".py",
   "mimetype": "text/x-python",
   "name": "python",
   "nbconvert_exporter": "python",
   "pygments_lexer": "ipython3",
   "version": "3.11.5"
  }
 },
 "nbformat": 4,
 "nbformat_minor": 2
}
