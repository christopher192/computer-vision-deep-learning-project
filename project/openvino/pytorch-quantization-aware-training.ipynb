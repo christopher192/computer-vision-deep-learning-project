{
 "cells": [
  {
   "cell_type": "code",
   "execution_count": 31,
   "metadata": {},
   "outputs": [
    {
     "name": "stdout",
     "output_type": "stream",
     "text": [
      "INFO:nncf:NNCF initialized successfully. Supported frameworks detected: torch, tensorflow, onnx, openvino\n"
     ]
    }
   ],
   "source": [
    "import os\n",
    "import nncf\n",
    "import zipfile\n",
    "import requests\n",
    "import urllib.parse\n",
    "from pathlib import Path\n",
    "from tqdm.notebook import tqdm_notebook"
   ]
  },
  {
   "cell_type": "code",
   "execution_count": 30,
   "metadata": {},
   "outputs": [
    {
     "name": "stdout",
     "output_type": "stream",
     "text": [
      "'dataset\\tiny-imagenet-200.zip' already exists.\n",
      "C:\\Users\\huchri1x\\Desktop\\git\\computer-vision-deep-learning-project\\project\\openvino\\dataset\\tiny-imagenet-200.zip\n",
      "'dataset\\tiny-imagenet-200.zip' already extracted.\n"
     ]
    }
   ],
   "source": [
    "# download tiny imagenet 200 dataset\n",
    "dataset_url = \"http://cs231n.stanford.edu/tiny-imagenet-200.zip\"\n",
    "\n",
    "data_dir = Path(\"dataset\")\n",
    "\n",
    "if not data_dir.exists():\n",
    "    data_dir.mkdir(parents = True, exist_ok = True)\n",
    "\n",
    "tarname = Path(urllib.parse.urlparse(dataset_url).path).name\n",
    "archive_path = data_dir / tarname\n",
    "\n",
    "chunk_size = 16384\n",
    "\n",
    "filename = data_dir / Path(tarname)\n",
    "\n",
    "try:\n",
    "    response = requests.get(url = dataset_url, headers = {\"User-agent\": \"Mozilla/5.0\"}, stream = True)\n",
    "    response.raise_for_status()\n",
    "except requests.exceptions.HTTPError as error:\n",
    "    raise Exception(error) from None\n",
    "except requests.exceptions.Timeout:\n",
    "    raise Exception(\n",
    "        \"connection timed out error.\"\n",
    "    ) from None\n",
    "except requests.exceptions.RequestException as error:\n",
    "    raise Exception(f\"file downloading failed with error: {error}\") from None\n",
    "\n",
    "filesize = int(response.headers.get(\"Content-length\", 0))\n",
    "\n",
    "if not filename.exists() or (os.stat(filename).st_size != filesize):\n",
    "    with tqdm_notebook(\n",
    "        total = filesize,\n",
    "        unit = \"B\",\n",
    "        unit_scale = True,\n",
    "        unit_divisor = 1024,\n",
    "        desc = str(filename),\n",
    "        disable = False,\n",
    "    ) as progress_bar:\n",
    "        with open(filename, \"wb\") as file_object:\n",
    "            for chunk in response.iter_content(chunk_size):\n",
    "                file_object.write(chunk)\n",
    "                progress_bar.update(len(chunk))\n",
    "                progress_bar.refresh()\n",
    "else:\n",
    "    print(f\"'{filename}' already exists.\")\n",
    "\n",
    "response.close()\n",
    "\n",
    "absolute_path = filename.resolve()\n",
    "print(absolute_path)\n",
    "\n",
    "if not archive_path.exists():\n",
    "    zip_ref = zipfile.ZipFile(archive_path, \"r\")\n",
    "    zip_ref.extractall(path = data_dir)\n",
    "    zip_ref.close()\n",
    "else:\n",
    "    print(f\"'{archive_path}' already extracted.\")"
   ]
  },
  {
   "cell_type": "code",
   "execution_count": null,
   "metadata": {},
   "outputs": [],
   "source": []
  }
 ],
 "metadata": {
  "kernelspec": {
   "display_name": "openvino",
   "language": "python",
   "name": "python3"
  },
  "language_info": {
   "codemirror_mode": {
    "name": "ipython",
    "version": 3
   },
   "file_extension": ".py",
   "mimetype": "text/x-python",
   "name": "python",
   "nbconvert_exporter": "python",
   "pygments_lexer": "ipython3",
   "version": "3.12.4"
  }
 },
 "nbformat": 4,
 "nbformat_minor": 2
}
