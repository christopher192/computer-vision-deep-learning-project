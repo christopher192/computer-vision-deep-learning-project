{
 "cells": [
  {
   "cell_type": "markdown",
   "metadata": {},
   "source": [
    "### PaddleOCR Usage"
   ]
  },
  {
   "cell_type": "code",
   "execution_count": 6,
   "metadata": {},
   "outputs": [],
   "source": [
    "# import libraries\n",
    "import os\n",
    "import pathlib\n",
    "from PIL import Image\n",
    "from datetime import datetime\n",
    "from PaddleOCR import PaddleOCR, draw_ocr"
   ]
  },
  {
   "cell_type": "code",
   "execution_count": 7,
   "metadata": {},
   "outputs": [
    {
     "name": "stdout",
     "output_type": "stream",
     "text": [
      "[2024/07/08 15:08:57] ppocr DEBUG: Namespace(help='==SUPPRESS==', use_gpu=True, use_xpu=False, use_npu=False, use_mlu=False, ir_optim=True, use_tensorrt=False, min_subgraph_size=15, precision='fp32', gpu_mem=500, gpu_id=0, image_dir=None, page_num=0, det_algorithm='DB', det_model_dir='C:\\\\Users\\\\christopher_hu/.paddleocr/whl\\\\det\\\\ch\\\\ch_PP-OCRv4_det_infer', det_limit_side_len=960, det_limit_type='max', det_box_type='quad', det_db_thresh=0.3, det_db_box_thresh=0.6, det_db_unclip_ratio=1.5, max_batch_size=10, use_dilation=False, det_db_score_mode='fast', det_east_score_thresh=0.8, det_east_cover_thresh=0.1, det_east_nms_thresh=0.2, det_sast_score_thresh=0.5, det_sast_nms_thresh=0.2, det_pse_thresh=0, det_pse_box_thresh=0.85, det_pse_min_area=16, det_pse_scale=1, scales=[8, 16, 32], alpha=1.0, beta=1.0, fourier_degree=5, rec_algorithm='SVTR_LCNet', rec_model_dir='C:\\\\Users\\\\christopher_hu/.paddleocr/whl\\\\rec\\\\ch\\\\ch_PP-OCRv4_rec_infer', rec_image_inverse=True, rec_image_shape='3, 48, 320', rec_batch_num=6, max_text_length=25, rec_char_dict_path='d:\\\\Git\\\\computer-vision-deep-learning-project\\\\project\\\\ocr\\\\paddle_ocr\\\\PaddleOCR\\\\ppocr\\\\utils\\\\ppocr_keys_v1.txt', use_space_char=True, vis_font_path='./doc/fonts/simfang.ttf', drop_score=0.5, e2e_algorithm='PGNet', e2e_model_dir=None, e2e_limit_side_len=768, e2e_limit_type='max', e2e_pgnet_score_thresh=0.5, e2e_char_dict_path='./ppocr/utils/ic15_dict.txt', e2e_pgnet_valid_set='totaltext', e2e_pgnet_mode='fast', use_angle_cls=True, cls_model_dir='C:\\\\Users\\\\christopher_hu/.paddleocr/whl\\\\cls\\\\ch_ppocr_mobile_v2.0_cls_infer', cls_image_shape='3, 48, 192', label_list=['0', '180'], cls_batch_num=6, cls_thresh=0.9, enable_mkldnn=False, cpu_threads=10, use_pdserving=False, warmup=False, sr_model_dir=None, sr_image_shape='3, 32, 128', sr_batch_num=1, draw_img_save_dir='./inference_results', save_crop_res=False, crop_res_save_dir='./output', use_mp=False, total_process_num=1, process_id=0, benchmark=False, save_log_path='./log_output/', show_log=True, use_onnx=False, return_word_box=False, output='./output', table_max_len=488, table_algorithm='TableAttn', table_model_dir=None, merge_no_span_structure=True, table_char_dict_path=None, layout_model_dir=None, layout_dict_path=None, layout_score_threshold=0.5, layout_nms_threshold=0.5, kie_algorithm='LayoutXLM', ser_model_dir=None, re_model_dir=None, use_visual_backbone=True, ser_dict_path='../train_data/XFUND/class_list_xfun.txt', ocr_order_method=None, mode='structure', image_orientation=False, layout=True, table=True, ocr=True, recovery=False, use_pdf2docx_api=False, invert=False, binarize=False, alphacolor=(255, 255, 255), lang='ch', det=True, rec=True, type='ocr', savefile=False, ocr_version='PP-OCRv4', structure_version='PP-StructureV2')\n"
     ]
    }
   ],
   "source": [
    "# initialize model\n",
    "# use angle cls: detect the angle of text\n",
    "# lang ['ch', 'en']\n",
    "ocr = PaddleOCR(use_angle_cls = True, lang = 'ch')"
   ]
  },
  {
   "cell_type": "markdown",
   "metadata": {},
   "source": [
    "#### Using Pretrained Model"
   ]
  },
  {
   "cell_type": "code",
   "execution_count": 8,
   "metadata": {},
   "outputs": [
    {
     "name": "stdout",
     "output_type": "stream",
     "text": [
      "[2024/07/08 15:09:02] ppocr DEBUG: dt_boxes num : 17, elapsed : 0.2047717571258545\n",
      "[2024/07/08 15:09:02] ppocr DEBUG: cls num  : 17, elapsed : 0.03528881072998047\n",
      "[2024/07/08 15:09:02] ppocr DEBUG: rec_res num  : 17, elapsed : 0.18199968338012695\n",
      "[[[206.0, 4.0], [268.0, 6.0], [268.0, 21.0], [206.0, 19.0]], ('RdG/282024', 0.668639600276947)]\n",
      "[[[388.0, 10.0], [437.0, 10.0], [437.0, 24.0], [388.0, 24.0]], ('8YMNCOMAR', 0.8536121845245361)]\n",
      "[[[587.0, 16.0], [623.0, 16.0], [623.0, 31.0], [587.0, 31.0]], ('Piant 05', 0.8118113875389099)]\n",
      "[[[637.0, 21.0], [734.0, 25.0], [733.0, 50.0], [636.0, 46.0]], ('222034', 0.9367610812187195)]\n",
      "[[[130.0, 98.0], [424.0, 109.0], [424.0, 129.0], [130.0, 118.0]], ('(P)CPN:PH5AG288NEBLB2RH REVB', 0.9387012124061584)]\n",
      "[[[128.0, 155.0], [377.0, 165.0], [376.0, 186.0], [127.0, 175.0]], ('(1P)MPN:PH5AG288NEBLB2RH', 0.9698646664619446)]\n",
      "[[[127.0, 211.0], [271.0, 219.0], [270.0, 239.0], [126.0, 231.0]], ('PO#:4510734119', 0.9621471166610718)]\n",
      "[[[422.0, 225.0], [671.0, 233.0], [671.0, 253.0], [422.0, 245.0]], ('TripodP/N:S005008BS1768-05', 0.9867181777954102)]\n",
      "[[[126.0, 268.0], [218.0, 272.0], [217.0, 292.0], [125.0, 289.0]], ('(Q)QTY:220', 0.9170818328857422)]\n",
      "[[[336.0, 277.0], [513.0, 285.0], [512.0, 306.0], [335.0, 298.0]], ('(9D)DATECODE:2349', 0.9595043063163757)]\n",
      "[[[125.0, 330.0], [303.0, 338.0], [302.0, 358.0], [124.0, 350.0]], ('（1T)LOT#:M311160010', 0.9322473406791687)]\n",
      "[[[442.0, 347.0], [551.0, 354.0], [550.0, 374.0], [441.0, 368.0]], ('MFG:TRIPOD', 0.9481996297836304)]\n",
      "[[[126.0, 386.0], [221.0, 390.0], [220.0, 411.0], [125.0, 406.0]], ('(4L)COO.CN', 0.943023681640625)]\n",
      "[[[440.0, 409.0], [531.0, 415.0], [530.0, 436.0], [439.0, 430.0]], ('BOX:1of2', 0.9411282539367676)]\n",
      "[[[124.0, 453.0], [292.0, 463.0], [291.0, 483.0], [123.0, 472.0]], ('SHIP DATE:20240119', 0.9698859453201294)]\n",
      "[[[337.0, 466.0], [454.0, 474.0], [453.0, 492.0], [336.0, 484.0]], ('CF2401190064', 0.9987114071846008)]\n"
     ]
    }
   ],
   "source": [
    "# test 1 sample and print the result\n",
    "img_path = '../../../dataset/ocr/test/image-1.jpeg'\n",
    "result = ocr.ocr(img_path, cls = True)\n",
    "\n",
    "for idx in range(len(result)):\n",
    "    res = result[idx]\n",
    "    for line in res:\n",
    "        print(line)"
   ]
  },
  {
   "cell_type": "code",
   "execution_count": 9,
   "metadata": {},
   "outputs": [
    {
     "name": "stdout",
     "output_type": "stream",
     "text": [
      "[2024/07/08 15:09:02] ppocr DEBUG: dt_boxes num : 17, elapsed : 0.030880212783813477\n",
      "[2024/07/08 15:09:02] ppocr DEBUG: cls num  : 17, elapsed : 0.02598714828491211\n",
      "[2024/07/08 15:09:03] ppocr DEBUG: rec_res num  : 17, elapsed : 0.10200285911560059\n",
      "[2024/07/08 15:09:03] ppocr DEBUG: dt_boxes num : 25, elapsed : 0.03629446029663086\n",
      "[2024/07/08 15:09:03] ppocr DEBUG: cls num  : 25, elapsed : 0.021997690200805664\n",
      "[2024/07/08 15:09:03] ppocr DEBUG: rec_res num  : 25, elapsed : 0.15501642227172852\n",
      "[2024/07/08 15:09:03] ppocr DEBUG: dt_boxes num : 9, elapsed : 0.02801370620727539\n",
      "[2024/07/08 15:09:03] ppocr DEBUG: cls num  : 9, elapsed : 0.025981664657592773\n",
      "[2024/07/08 15:09:03] ppocr DEBUG: rec_res num  : 9, elapsed : 0.10400056838989258\n",
      "[2024/07/08 15:09:03] ppocr DEBUG: dt_boxes num : 29, elapsed : 0.03801465034484863\n",
      "[2024/07/08 15:09:03] ppocr DEBUG: cls num  : 29, elapsed : 0.03798532485961914\n",
      "[2024/07/08 15:09:03] ppocr DEBUG: rec_res num  : 29, elapsed : 0.15100455284118652\n",
      "[2024/07/08 15:09:03] ppocr DEBUG: dt_boxes num : 13, elapsed : 0.029985666275024414\n",
      "[2024/07/08 15:09:03] ppocr DEBUG: cls num  : 13, elapsed : 0.014983177185058594\n",
      "[2024/07/08 15:09:03] ppocr DEBUG: rec_res num  : 13, elapsed : 0.061014652252197266\n",
      "[2024/07/08 15:09:04] ppocr DEBUG: dt_boxes num : 22, elapsed : 0.03500056266784668\n",
      "[2024/07/08 15:09:04] ppocr DEBUG: cls num  : 22, elapsed : 0.03199934959411621\n",
      "[2024/07/08 15:09:04] ppocr DEBUG: rec_res num  : 22, elapsed : 0.10501432418823242\n",
      "[2024/07/08 15:09:04] ppocr DEBUG: dt_boxes num : 12, elapsed : 0.03484821319580078\n",
      "[2024/07/08 15:09:04] ppocr DEBUG: cls num  : 12, elapsed : 0.009999275207519531\n",
      "[2024/07/08 15:09:04] ppocr DEBUG: rec_res num  : 12, elapsed : 0.1230013370513916\n",
      "[2024/07/08 15:09:04] ppocr DEBUG: dt_boxes num : 28, elapsed : 0.037012338638305664\n",
      "[2024/07/08 15:09:04] ppocr DEBUG: cls num  : 28, elapsed : 0.04198336601257324\n",
      "[2024/07/08 15:09:04] ppocr DEBUG: rec_res num  : 28, elapsed : 0.17338848114013672\n",
      "[2024/07/08 15:09:04] ppocr DEBUG: dt_boxes num : 18, elapsed : 0.03391289710998535\n",
      "[2024/07/08 15:09:04] ppocr DEBUG: cls num  : 18, elapsed : 0.0166318416595459\n",
      "[2024/07/08 15:09:04] ppocr DEBUG: rec_res num  : 18, elapsed : 0.09834456443786621\n"
     ]
    }
   ],
   "source": [
    "dir_path = \"../../../dataset/ocr/test/\"\n",
    "all_image_path = os.listdir(\n",
    "    dir_path\n",
    ")\n",
    "\n",
    "# generate a timestamp\n",
    "timestamp = datetime.now().strftime(\"%Y%m%d_%H%M%S\")\n",
    "\n",
    "for img_path in all_image_path:\n",
    "    combine_path = os.path.join(dir_path, img_path)\n",
    "    result = ocr.ocr(combine_path, cls = True)\n",
    "    result = result[0]\n",
    "\n",
    "    image = Image.open(combine_path).convert('RGB')\n",
    "\n",
    "    boxes = [line[0] for line in result]\n",
    "    txts = [line[1][0] for line in result]\n",
    "    scores = [line[1][1] for line in result]\n",
    "\n",
    "    im_show = draw_ocr(image, boxes, txts, scores, font_path = './fonts/simfang.ttf')\n",
    "    im_show = Image.fromarray(im_show)\n",
    "\n",
    "    # create the directory if it doesn't exist\n",
    "    save_dir = os.path.join('result', timestamp)\n",
    "    os.makedirs(save_dir, exist_ok = True)\n",
    "\n",
    "    save_path = os.path.join(f'result/{timestamp}', img_path)\n",
    "    im_show.save(save_path)"
   ]
  },
  {
   "cell_type": "markdown",
   "metadata": {},
   "source": [
    "#### Fine Tuning Pretrained Model"
   ]
  },
  {
   "cell_type": "code",
   "execution_count": null,
   "metadata": {},
   "outputs": [],
   "source": []
  }
 ],
 "metadata": {
  "kernelspec": {
   "display_name": "base",
   "language": "python",
   "name": "python3"
  },
  "language_info": {
   "codemirror_mode": {
    "name": "ipython",
    "version": 3
   },
   "file_extension": ".py",
   "mimetype": "text/x-python",
   "name": "python",
   "nbconvert_exporter": "python",
   "pygments_lexer": "ipython3",
   "version": "3.11.9"
  }
 },
 "nbformat": 4,
 "nbformat_minor": 2
}
