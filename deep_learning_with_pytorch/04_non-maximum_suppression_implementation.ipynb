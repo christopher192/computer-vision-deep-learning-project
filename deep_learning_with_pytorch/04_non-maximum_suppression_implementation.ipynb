{
 "cells": [
  {
   "cell_type": "markdown",
   "id": "5f387576",
   "metadata": {},
   "source": [
    "## Non-maximum Supression (NMS)"
   ]
  },
  {
   "cell_type": "code",
   "execution_count": 36,
   "id": "59d4fda9",
   "metadata": {},
   "outputs": [],
   "source": [
    "import torch"
   ]
  },
  {
   "cell_type": "code",
   "execution_count": 73,
   "id": "386270cd",
   "metadata": {},
   "outputs": [],
   "source": [
    "def soft_nms_implementation(dbox_data):\n",
    "    x1_initial = dbox_data[:, 0]\n",
    "    y1_initial = dbox_data[:, 1]\n",
    "    x2_initial = dbox_data[:, 2]\n",
    "    y2_initial = dbox_data[:, 3]\n",
    "    \n",
    "    area = (x2_initial - x1_initial + 1) * (y2_initial - y1_initial + 1)\n",
    "    dbox_data = torch.cat((dbox_data, area[:, None]), dim = 1)\n",
    "    \n",
    "    final_dbox = []\n",
    "    \n",
    "    # Get position of detection box with maximum confidence score\n",
    "    max_index = torch.argmax(dbox_data[:, 4], axis = 0)\n",
    "    \n",
    "    dbox_data[[0, max_index], :] = dbox_data[[max_index, 0], :]\n",
    "    final_dbox.append(dbox_data[0, :-1])\n",
    "    \n",
    "    xx1 = torch.max(dbox_data[0, 0], dbox_data[1:, 0])\n",
    "    yy1 = torch.max(dbox_data[0, 1], dbox_data[1:, 1])\n",
    "    xx2 = torch.min(dbox_data[0, 2], dbox_data[1:, 2])\n",
    "    yy2 = torch.min(dbox_data[0, 3], dbox_data[1:, 3])\n",
    "    \n",
    "    x_diff = xx2 - xx1 + 1\n",
    "    y_diff = yy2 - yy1 + 1\n",
    "      \n",
    "    width = torch.max(x_diff, torch.tensor(0.0, device = \"cpu\"))\n",
    "    height = torch.max(y_diff, torch.tensor(0.0, device = \"cpu\"))\n",
    "    \n",
    "    intersection_area = width * height\n",
    "    iou = intersection_area / (dbox_data[0, 5] + dbox_data[1:, 5] - intersection_area)"
   ]
  },
  {
   "cell_type": "code",
   "execution_count": 74,
   "id": "cfc052d1",
   "metadata": {},
   "outputs": [],
   "source": [
    "# (x1, y1, x2, y2, confidence score)\n",
    "first_detection_boxes_data = torch.tensor([[2, 2, 5, 6, 0.8], [3, 1, 5, 5, 0.1], [4, 4, 6, 7, 0.9]],\n",
    "                                    dtype = torch.float)\n",
    "second_detection_boxes_data = torch.tensor([[100., 100., 500., 400., 0.85], [450., 350., 700., 600., 0.45],\n",
    "                                       [600., 100., 800., 300., 0.2]],\n",
    "                                      dtype = torch.float)\n",
    "\n",
    "first_detection_boxes_data = first_detection_boxes_data.to(\"cpu\")\n",
    "second_detection_boxes_data = second_detection_boxes_data.to(\"cpu\")"
   ]
  },
  {
   "cell_type": "code",
   "execution_count": 75,
   "id": "ddce00d8",
   "metadata": {},
   "outputs": [
    {
     "name": "stdout",
     "output_type": "stream",
     "text": [
      "tensor([[ 4.0000,  4.0000,  6.0000,  7.0000,  0.9000, 12.0000],\n",
      "        [ 3.0000,  1.0000,  5.0000,  5.0000,  0.1000, 15.0000],\n",
      "        [ 2.0000,  2.0000,  5.0000,  6.0000,  0.8000, 20.0000]])\n",
      "tensor(12.) tensor([15., 20.])\n"
     ]
    }
   ],
   "source": [
    "soft_nms_implementation(first_detection_boxes_data)"
   ]
  }
 ],
 "metadata": {
  "kernelspec": {
   "display_name": "Python 3 (ipykernel)",
   "language": "python",
   "name": "python3"
  },
  "language_info": {
   "codemirror_mode": {
    "name": "ipython",
    "version": 3
   },
   "file_extension": ".py",
   "mimetype": "text/x-python",
   "name": "python",
   "nbconvert_exporter": "python",
   "pygments_lexer": "ipython3",
   "version": "3.9.18"
  }
 },
 "nbformat": 4,
 "nbformat_minor": 5
}
