{
 "cells": [
  {
   "cell_type": "markdown",
   "id": "abea27cd",
   "metadata": {},
   "source": [
    "## Object Detection Evaluation Metric"
   ]
  },
  {
   "cell_type": "markdown",
   "id": "da3478ae",
   "metadata": {},
   "source": [
    "### 1. Intersection and Union\n",
    "\n",
    "<img src=\"image/iou.png\" alt=\"iou\" style=\"width: 500px; float: left;\" />"
   ]
  },
  {
   "cell_type": "markdown",
   "id": "3ab601ef",
   "metadata": {},
   "source": [
    "<p>The IOU (Intersection over Union) metric is used to evaluate the overlap between two bounding boxes, requiring two essential elements: the ground truth bounding box and the predicted bounding box. IOU is computed as the ratio of the area of their overlap to the area of union. To evaluate detection, we need to set threshold called IoU threshold which determine how well localization works. If IoU > Threshold = Prediction intersects well with the ground truth.</p> "
   ]
  },
  {
   "cell_type": "markdown",
   "id": "f21419fd",
   "metadata": {},
   "source": [
    "### 2. Confidence Score\n",
    "\n",
    "<img src=\"image/confidence score.png\" alt=\"confidence score\" style=\"width: 500px; float: left;\" />"
   ]
  },
  {
   "cell_type": "markdown",
   "id": "f698147f",
   "metadata": {},
   "source": [
    "<p>Probability that bounding box contains object, usually predicted by classifier. Orange box shows good overlap but low confidence score. That is because classifier think that the object inside the bounding box is different object. Blue box shows a bounding box with reasonable overlap and high confidence score. We need to set threshold for confidence score called confidence threshold which refer to the probability of finding an object inside the bounding box.</p>"
   ]
  },
  {
   "cell_type": "markdown",
   "id": "2178a21f",
   "metadata": {},
   "source": [
    "### 3. Confusion Matrix\n",
    "\n",
    "True positive: `IoU > IoU threshold` and `confidence score > confidence threshold`\n",
    "<br />\n",
    "False positive: `No ground truth bounding box (IoU = 0)` or `IoU < IoU threshold` and `confidence score > confidence threshold`\n",
    "<br />\n",
    "`IoU > IoU threshold`, `no bounding box detected near ground truth box` and `confidence score < confidence threshold`\n",
    "<br />\n",
    "False negative: `IoU < IoU threshold`, `no bounding box detected near ground truth box/ Not enough overlap` and `confidence score > confidence threshold`\n",
    "<br />\n",
    "False negative: `IoU > IoU threshold` and `confidence score < confidence threshold`"
   ]
  },
  {
   "cell_type": "markdown",
   "id": "1ede8346",
   "metadata": {},
   "source": [
    "### Mean Average Precision (mAP)"
   ]
  },
  {
   "cell_type": "code",
   "execution_count": 1,
   "id": "655cf4af",
   "metadata": {},
   "outputs": [],
   "source": [
    "import numpy as np\n",
    "import torch\n",
    "import matplotlib.pyplot as plt\n",
    "import cv2\n",
    "import matplotlib.patches as patches"
   ]
  },
  {
   "cell_type": "code",
   "execution_count": 2,
   "id": "ef538e37",
   "metadata": {},
   "outputs": [],
   "source": [
    "# Initialize sample for ground truth, predicted box and confidence score\n",
    "ground_truth_box = torch.tensor([[8, 12, 352, 498], [10, 15, 450, 500]], dtype = torch.float)\n",
    "\n",
    "predicted_box = torch.tensor([\n",
    "    [1.000000, 116.384613, 353.000000, 116.384613], [1.000000, 1.000000, 353.000000, 500.000000],\n",
    "    [9.000000, 14.000000, 452.500000, 500.500000], [1.000000, 154.846161, 353.000000, 154.846161],\n",
    "    [196.776474, 231.769226, 196.776474, 231.769226], [1.000000, 116.384613, 353.000000, 116.384613],\n",
    "    [1.000000, 1.000000, 353.000000, 500.000000], [1.000000, 231.769226, 353.000000, 231.769226],\n",
    "    [45.000000, 235.230774, 175.000000, 361.230774], [44.500000, 234.230774, 176.000000, 362.230774]\n",
    "], dtype = torch.float)\n",
    "\n",
    "confidence_score = torch.tensor([\n",
    "    0.180000, 0.985000, 0.98000, 0.200000, 0.090000, 0.170000, 0.570000, 0.210000, 0.855000, 0.850000\n",
    "], dtype = torch.float)"
   ]
  },
  {
   "cell_type": "markdown",
   "id": "d6e00cec",
   "metadata": {},
   "source": [
    "`cv2.rectangle` -> `start point (xmin, ymin), (left, top)`, `end point (xmax, ymax), (right, bottom)`"
   ]
  },
  {
   "cell_type": "code",
   "execution_count": 3,
   "id": "a5bc01f1",
   "metadata": {
    "scrolled": true
   },
   "outputs": [
    {
     "data": {
      "image/png": "[encoded data removed]",
      "text/plain": [
       "<Figure size 640x480 with 1 Axes>"
      ]
     },
     "metadata": {},
     "output_type": "display_data"
    }
   ],
   "source": [
    "# Visualization of ground truth\n",
    "# Set random image with width 600 and height 600\n",
    "image = np.ones((600, 600, 3), dtype = np.uint8) * 255\n",
    "image_rgb = cv2.cvtColor(image, cv2.COLOR_BGR2RGB)\n",
    "\n",
    "cv2.rectangle(image_rgb, (8, 12), (352, 498), \n",
    "                  color = (0, 255, 0), thickness = 2)\n",
    "\n",
    "cv2.rectangle(image_rgb, (10, 15), (450, 500), \n",
    "                  color = (0, 255, 0), thickness = 2)\n",
    "\n",
    "cv2.circle(image_rgb, (8, 12), radius = 0, color = (0, 0, 255), thickness = 15)\n",
    "cv2.circle(image_rgb, (352, 498), radius = 0, color = (0, 0, 255), thickness = 15)\n",
    "\n",
    "cv2.circle(image_rgb, (10, 15), radius = 0, color = (0, 0, 255), thickness = 15)\n",
    "cv2.circle(image_rgb, (450, 500), radius = 0, color = (0, 0, 255), thickness = 15)\n",
    "\n",
    "plt.imshow(image_rgb)\n",
    "plt.axis('off')\n",
    "plt.show()"
   ]
  },
  {
   "cell_type": "code",
   "execution_count": 4,
   "id": "45d0af58",
   "metadata": {
    "scrolled": true
   },
   "outputs": [
    {
     "data": {
      "image/png": "[encoded data removed]",
      "text/plain": [
       "<Figure size 640x480 with 1 Axes>"
      ]
     },
     "metadata": {},
     "output_type": "display_data"
    }
   ],
   "source": [
    "# Visualization of ground truth with predicted box\n",
    "sample_predicted_box = predicted_box[2]\n",
    "sample_xmin, sample_ymin, sample_xmax, sample_ymax = int(torch.round(sample_predicted_box[0]).to(torch.int)), int(torch.round(sample_predicted_box[1]).to(torch.int)), \\\n",
    "    int(torch.round(sample_predicted_box[2]).to(torch.int)), int(torch.round(sample_predicted_box[3]).to(torch.int))\n",
    "\n",
    "image = np.ones((600, 600, 3), dtype = np.uint8) * 255\n",
    "image_rgb = cv2.cvtColor(image, cv2.COLOR_BGR2RGB)\n",
    "\n",
    "cv2.rectangle(image_rgb, (8, 12), (352, 498), \n",
    "                  color = (0, 255, 0), thickness = 2)\n",
    "\n",
    "cv2.rectangle(image_rgb, (10, 15), (450, 500), \n",
    "                  color = (0, 255, 0), thickness = 2)\n",
    "\n",
    "cv2.circle(image_rgb, (8, 12), radius = 0, color = (0, 0, 255), thickness = 15)\n",
    "cv2.circle(image_rgb, (352, 498), radius = 0, color = (0, 0, 255), thickness = 15)\n",
    "\n",
    "cv2.circle(image_rgb, (10, 15), radius = 0, color = (0, 0, 255), thickness = 15)\n",
    "cv2.circle(image_rgb, (450, 500), radius = 0, color = (0, 0, 255), thickness = 15)\n",
    "\n",
    "cv2.rectangle(image_rgb, (sample_xmin, sample_ymin), (sample_xmax, sample_ymax), \n",
    "                  color = (255, 0, 0), thickness = 2)\n",
    "\n",
    "plt.imshow(image_rgb)\n",
    "plt.axis('off')\n",
    "plt.show()"
   ]
  },
  {
   "cell_type": "markdown",
   "id": "232bcc90",
   "metadata": {},
   "source": [
    "#### IoU calculation"
   ]
  },
  {
   "cell_type": "code",
   "execution_count": 26,
   "id": "293f875f",
   "metadata": {},
   "outputs": [
    {
     "name": "stdout",
     "output_type": "stream",
     "text": [
      "tensor([True, True, True, True, True, True, True, True, True, True])\n",
      "tensor([False,  True,  True,  True,  True,  True,  True,  True,  True,  True])\n",
      "tensor([False,  True,  True,  True,  True,  True,  True,  True,  True,  True])\n",
      "tensor([False,  True,  True,  True,  True,  True,  True,  True,  True,  True])\n",
      "tensor([False,  True,  True,  True,  True,  True,  True,  True,  True,  True])\n",
      "tensor([False,  True,  True,  True,  True,  True,  True,  True,  True,  True])\n",
      "tensor([False, False,  True, False, False, False, False, False, False, False])\n",
      "tensor([False, False, False, False, False, False, False, False, False, False])\n",
      "tensor([False, False, False, False, False, False, False, False, False, False])\n",
      "tensor([False, False, False, False, False, False, False, False, False, False])\n",
      "tensor([False, False, False, False, False, False, False, False, False, False])\n"
     ]
    }
   ],
   "source": [
    "# Sort based on confidence score\n",
    "sorted_index = np.argsort(-confidence_score)\n",
    "sorted_predicted_box = predicted_box[sorted_index, :]\n",
    "\n",
    "# Initialize true/ false positive\n",
    "true_positive = torch.zeros((len(sorted_index)), dtype = torch.float64)\n",
    "false_positive = torch.zeros((len(sorted_index)), dtype = torch.float64)\n",
    "\n",
    "# If there are not ground true box\n",
    "if len(ground_truth_box) == 0:\n",
    "    false_positive = torch.ones((len(sorted_index)), dtype = torch.float64)\n",
    "# If there are ground true box\n",
    "else:\n",
    "    true_positive = torch.zeros((len(sorted_index)), dtype = torch.float64)\n",
    "    false_positive = torch.zeros((len(sorted_index)), dtype = torch.float64)\n",
    "    is_obj_already_detected = [False for _ in range(ground_truth_box.shape[0])]\n",
    "    intersection_threshold = 0.5\n",
    "    \n",
    "    for box_number in range(len(sorted_index)):\n",
    "        get_predicted_box = predicted_box[box_number, :]\n",
    "\n",
    "        ixmin = torch.max(ground_truth_box[:, 0], get_predicted_box[0])\n",
    "        iymin = torch.max(ground_truth_box[:, 1], get_predicted_box[1])\n",
    "        ixmax = torch.min(ground_truth_box[:, 2], get_predicted_box[2])\n",
    "        iymax = torch.min(ground_truth_box[:, 3], get_predicted_box[3])\n",
    "        \n",
    "        width = torch.max(ixmax - ixmin + 1., torch.tensor(0.))\n",
    "        height = torch.max(iymax - iymin + 1., torch.tensor(0.))\n",
    "        \n",
    "        intersection_area = width * height\n",
    "        \n",
    "        union = ((get_predicted_box[2] - get_predicted_box[0] + 1.) * (get_predicted_box[3] - get_predicted_box[1] + 1.) +\n",
    "                 (ground_truth_box[:, 2] - ground_truth_box[:, 0] + 1.) *\n",
    "                 (ground_truth_box[:, 3] - ground_truth_box[:, 1] + 1.) - intersection_area)\n",
    "        \n",
    "        intersection_over_union = intersection_area / union\n",
    "\n",
    "        is_pass_threshold, max_iou_index = torch.max(intersection_over_union) >= intersection_threshold, \\\n",
    "            torch.argmax(intersection_over_union)\n",
    "        \n",
    "        if is_pass_threshold and not is_obj_already_detected[max_iou_index]:\n",
    "            true_positive[box_number] = 1\n",
    "            is_obj_already_detected[max_iou_index] = True\n",
    "        else:\n",
    "            false_positive[box_number] = 1\n",
    "            \n",
    "    true_positive_list = torch.cumsum(true_positive, dim = 0)\n",
    "    false_positive_list = torch.cumsum(false_positive, dim = 0)\n",
    "    false_negative_list = ground_truth_box.shape[0] - true_positive\n",
    "    \n",
    "    precision = true_positive_list / (false_positive_list + true_positive_list + torch.finfo(torch.float64).eps)\n",
    "    recall = true_positive_list / (true_positive_list + false_negative_list + torch.finfo(torch.float64).eps)\n",
    "\n",
    "    average_precision = torch.tensor(0.)\n",
    "    \n",
    "    if precision is None or recall is None:\n",
    "        average_precision = torch.tensor(np.nan)\n",
    "        \n",
    "    recall_level = torch.linspace(0, 1, 11)\n",
    "    \n",
    "    for level in recall_level:\n",
    "        recall_check = recall >= level\n",
    "        print(recall_check)"
   ]
  },
  {
   "cell_type": "markdown",
   "id": "2d533f7f",
   "metadata": {},
   "source": [
    "### Reference\n",
    "\n",
    "https://medium.com/@shroffmegha6695/object-detection-with-deep-learning-beginners-friendly-key-terms-explanation-d4fb594fea83#:~:text=Confidence%20score%20%3A%20A%20score%20which,the%20ground%20truth%20bounding%20box."
   ]
  }
 ],
 "metadata": {
  "kernelspec": {
   "display_name": "Python 3 (ipykernel)",
   "language": "python",
   "name": "python3"
  },
  "language_info": {
   "codemirror_mode": {
    "name": "ipython",
    "version": 3
   },
   "file_extension": ".py",
   "mimetype": "text/x-python",
   "name": "python",
   "nbconvert_exporter": "python",
   "pygments_lexer": "ipython3",
   "version": "3.9.18"
  }
 },
 "nbformat": 4,
 "nbformat_minor": 5
}
