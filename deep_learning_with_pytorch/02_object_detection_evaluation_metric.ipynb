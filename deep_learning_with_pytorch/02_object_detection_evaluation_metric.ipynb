{
 "cells": [
  {
   "cell_type": "markdown",
   "id": "abea27cd",
   "metadata": {},
   "source": [
    "## Object Detection Evaluation Metric"
   ]
  },
  {
   "cell_type": "markdown",
   "id": "da3478ae",
   "metadata": {},
   "source": [
    "### 1. Intersection and Union\n",
    "\n",
    "<img src=\"image/iou.png\" alt=\"iou\" style=\"width: 500px; float: left;\" />"
   ]
  },
  {
   "cell_type": "markdown",
   "id": "3ab601ef",
   "metadata": {},
   "source": [
    "<p>The IOU (Intersection over Union) metric is used to evaluate the overlap between two bounding boxes, requiring two essential elements: the ground truth bounding box and the predicted bounding box. IOU is computed as the ratio of the area of their overlap to the area of union. To evaluate detection, we need to set threshold called IoU threshold which determine how well localization works. If IoU > Threshold = Prediction intersects well with the ground truth.</p> "
   ]
  },
  {
   "cell_type": "markdown",
   "id": "f21419fd",
   "metadata": {},
   "source": [
    "### 2. Confidence Score\n",
    "\n",
    "<img src=\"image/confidence score.png\" alt=\"confidence score\" style=\"width: 500px; float: left;\" />"
   ]
  },
  {
   "cell_type": "markdown",
   "id": "f698147f",
   "metadata": {},
   "source": [
    "<p>Probability that bounding box contains object, usually predicted by classifier. Orange box shows good overlap but low confidence score. That is because classifier think that the object inside the bounding box is different object. Blue box shows a bounding box with reasonable overlap and high confidence score. We need to set threshold for confidence score called confidence threshold which refer to the probability of finding an object inside the bounding box.</p>"
   ]
  },
  {
   "cell_type": "markdown",
   "id": "2178a21f",
   "metadata": {},
   "source": [
    "### 3. Confusion Matrix\n",
    "\n",
    "True positive: `IoU > IoU threshold` and `confidence score > confidence threshold`\n",
    "<br />\n",
    "False positive: `No ground truth bounding box (IoU = 0)` or `IoU < IoU threshold` and `confidence score > confidence threshold`\n",
    "<br />\n",
    "`IoU > IoU threshold`, `no bounding box detected near ground truth box` and `confidence score < confidence threshold`\n",
    "<br />\n",
    "False negative: `IoU < IoU threshold`, `no bounding box detected near ground truth box/ Not enough overlap` and `confidence score > confidence threshold`\n",
    "<br />\n",
    "False negative: `IoU > IoU threshold` and `confidence score < confidence threshold`"
   ]
  },
  {
   "cell_type": "markdown",
   "id": "1ede8346",
   "metadata": {},
   "source": [
    "### Mean Average Precision (mAP)"
   ]
  },
  {
   "cell_type": "code",
   "execution_count": 1,
   "id": "655cf4af",
   "metadata": {},
   "outputs": [],
   "source": [
    "import numpy as np\n",
    "import torch\n",
    "import matplotlib.pyplot as plt\n",
    "import cv2\n",
    "import matplotlib.patches as patches"
   ]
  },
  {
   "cell_type": "code",
   "execution_count": 2,
   "id": "ef538e37",
   "metadata": {},
   "outputs": [],
   "source": [
    "# Initialize sample for ground truth, predicted box and confidence score\n",
    "ground_truth_box = torch.tensor([[8, 12, 352, 498], [10, 15, 450, 500]], dtype = torch.float)\n",
    "\n",
    "predicted_box = torch.tensor([\n",
    "    [1.000000, 116.384613, 353.000000, 116.384613], [1.000000, 1.000000, 353.000000, 500.000000],\n",
    "    [9.000000, 14.000000, 452.500000, 500.500000], [1.000000, 154.846161, 353.000000, 154.846161],\n",
    "    [196.776474, 231.769226, 196.776474, 231.769226], [1.000000, 116.384613, 353.000000, 116.384613],\n",
    "    [1.000000, 1.000000, 353.000000, 500.000000], [1.000000, 231.769226, 353.000000, 231.769226],\n",
    "    [45.000000, 235.230774, 175.000000, 361.230774], [44.500000, 234.230774, 176.000000, 362.230774]\n",
    "], dtype = torch.float)\n",
    "\n",
    "confidence_score = torch.tensor([\n",
    "    0.180000, 0.985000, 0.98000, 0.200000, 0.090000, 0.170000, 0.570000, 0.210000, 0.855000, 0.850000\n",
    "], dtype = torch.float)"
   ]
  },
  {
   "cell_type": "markdown",
   "id": "d6e00cec",
   "metadata": {},
   "source": [
    "`cv2.rectangle` -> `start point (xmin, ymin), (left, top)`, `end point (xmax, ymax), (right, bottom)`"
   ]
  },
  {
   "cell_type": "code",
   "execution_count": 3,
   "id": "a5bc01f1",
   "metadata": {
    "scrolled": true
   },
   "outputs": [
    {
     "data": {
      "image/png": "[encoded data removed]",
      "text/plain": [
       "<Figure size 640x480 with 1 Axes>"
      ]
     },
     "metadata": {},
     "output_type": "display_data"
    }
   ],
   "source": [
    "# Visualization of ground truth\n",
    "# Set random image with width 600 and height 600\n",
    "image = np.ones((600, 600, 3), dtype = np.uint8) * 255\n",
    "image_rgb = cv2.cvtColor(image, cv2.COLOR_BGR2RGB)\n",
    "\n",
    "cv2.rectangle(image_rgb, (8, 12), (352, 498), \n",
    "                  color = (0, 255, 0), thickness = 2)\n",
    "\n",
    "cv2.rectangle(image_rgb, (10, 15), (450, 500), \n",
    "                  color = (0, 255, 0), thickness = 2)\n",
    "\n",
    "cv2.circle(image_rgb, (8, 12), radius = 0, color = (0, 0, 255), thickness = 15)\n",
    "cv2.circle(image_rgb, (352, 498), radius = 0, color = (0, 0, 255), thickness = 15)\n",
    "\n",
    "cv2.circle(image_rgb, (10, 15), radius = 0, color = (0, 0, 255), thickness = 15)\n",
    "cv2.circle(image_rgb, (450, 500), radius = 0, color = (0, 0, 255), thickness = 15)\n",
    "\n",
    "plt.imshow(image_rgb)\n",
    "plt.axis('off')\n",
    "plt.show()"
   ]
  },
  {
   "cell_type": "code",
   "execution_count": 4,
   "id": "45d0af58",
   "metadata": {
    "scrolled": true
   },
   "outputs": [
    {
     "data": {
      "image/png": "[encoded data removed]",
      "text/plain": [
       "<Figure size 640x480 with 1 Axes>"
      ]
     },
     "metadata": {},
     "output_type": "display_data"
    }
   ],
   "source": [
    "# Visualization of ground truth with predicted box\n",
    "sample_predicted_box = predicted_box[2]\n",
    "sample_xmin, sample_ymin, sample_xmax, sample_ymax = int(torch.round(sample_predicted_box[0]).to(torch.int)), int(torch.round(sample_predicted_box[1]).to(torch.int)), \\\n",
    "    int(torch.round(sample_predicted_box[2]).to(torch.int)), int(torch.round(sample_predicted_box[3]).to(torch.int))\n",
    "\n",
    "image = np.ones((600, 600, 3), dtype = np.uint8) * 255\n",
    "image_rgb = cv2.cvtColor(image, cv2.COLOR_BGR2RGB)\n",
    "\n",
    "cv2.rectangle(image_rgb, (8, 12), (352, 498), \n",
    "                  color = (0, 255, 0), thickness = 2)\n",
    "\n",
    "cv2.rectangle(image_rgb, (10, 15), (450, 500), \n",
    "                  color = (0, 255, 0), thickness = 2)\n",
    "\n",
    "cv2.circle(image_rgb, (8, 12), radius = 0, color = (0, 0, 255), thickness = 15)\n",
    "cv2.circle(image_rgb, (352, 498), radius = 0, color = (0, 0, 255), thickness = 15)\n",
    "\n",
    "cv2.circle(image_rgb, (10, 15), radius = 0, color = (0, 0, 255), thickness = 15)\n",
    "cv2.circle(image_rgb, (450, 500), radius = 0, color = (0, 0, 255), thickness = 15)\n",
    "\n",
    "cv2.rectangle(image_rgb, (sample_xmin, sample_ymin), (sample_xmax, sample_ymax), \n",
    "                  color = (255, 0, 0), thickness = 2)\n",
    "\n",
    "plt.imshow(image_rgb)\n",
    "plt.axis('off')\n",
    "plt.show()"
   ]
  },
  {
   "cell_type": "markdown",
   "id": "232bcc90",
   "metadata": {},
   "source": [
    "#### IoU calculation\n",
    "\n",
    "Recall: 0.5000, 1.0000, 1.0000, 1.0000, 1.0000, 1.0000, 1.0000, 1.0000, 1.0000, 1.0000<br>\n",
    "Precision: 1.0000, 1.0000, 0.6667, 0.5000, 0.4000, 0.3333, 0.2857, 0.2500, 0.2222, 0.2000"
   ]
  },
  {
   "cell_type": "code",
   "execution_count": null,
   "id": "959a0e05",
   "metadata": {},
   "outputs": [],
   "source": [
    "def match(sorted_ind, predicted_dboxes, ground_truth_dboxes, intersection_threshold):\n",
    "    true_positives = torch.zeros((len(sorted_ind)), dtype=torch.float64)\n",
    "    false_positives = torch.zeros((len(sorted_ind)), dtype=torch.float64)\n",
    "    is_obj_already_detected = [False for _ in range(ground_truth_dboxes.shape[0])]\n",
    "\n",
    "    for box_num in range(len(sorted_ind)):\n",
    "        predicted_dbox = predicted_dboxes[box_num, :]\n",
    "\n",
    "        is_pass_threshold, max_iou_index = check_iou_threshold(\n",
    "            predicted_dbox, ground_truth_dboxes, intersection_threshold\n",
    "        )\n",
    "        \n",
    "        if is_pass_threshold and not is_obj_already_detected[max_iou_index]:\n",
    "            true_positives[box_num] = 1\n",
    "            is_obj_already_detected[max_iou_index] = True\n",
    "        else:\n",
    "            false_positives[box_num] = 1\n",
    "\n",
    "    return true_positives, false_positives"
   ]
  },
  {
   "cell_type": "code",
   "execution_count": 5,
   "id": "293f875f",
   "metadata": {},
   "outputs": [
    {
     "name": "stdout",
     "output_type": "stream",
     "text": [
      "tensor([0., 1., 2., 2., 2., 2., 2., 2., 2., 2.], dtype=torch.float64)\n",
      "tensor([1., 1., 1., 2., 3., 4., 5., 6., 7., 8.], dtype=torch.float64)\n",
      "tensor([2., 1., 1., 2., 2., 2., 2., 2., 2., 2.], dtype=torch.float64)\n",
      "tensor([0.0000, 0.5000, 0.6667, 0.5000, 0.5000, 0.5000, 0.5000, 0.5000, 0.5000,\n",
      "        0.5000], dtype=torch.float64) tensor([0.0000, 0.5000, 0.6667, 0.5000, 0.4000, 0.3333, 0.2857, 0.2500, 0.2222,\n",
      "        0.2000], dtype=torch.float64)\n"
     ]
    },
    {
     "data": {
      "image/png": "[encoded data removed]",
      "text/plain": [
       "<Figure size 640x480 with 1 Axes>"
      ]
     },
     "metadata": {},
     "output_type": "display_data"
    }
   ],
   "source": [
    "# Sort based on confidence score\n",
    "sorted_index = np.argsort(-confidence_score)\n",
    "sorted_predicted_box = predicted_box[sorted_index, :]\n",
    "\n",
    "# Initialize basic value\n",
    "true_positive = torch.zeros((len(sorted_index)), dtype = torch.float64)\n",
    "false_positive = torch.zeros((len(sorted_index)), dtype = torch.float64)\n",
    "intersection_threshold = 0.5\n",
    "recall_level = torch.linspace(0, 1, 11)\n",
    "\n",
    "# If there are not ground true box\n",
    "if len(ground_truth_box) == 0:\n",
    "    false_positive = torch.ones((len(sorted_index)), dtype = torch.float64)\n",
    "# If there are ground true box\n",
    "else:\n",
    "    true_positive = torch.zeros((len(sorted_index)), dtype = torch.float64)\n",
    "    false_positive = torch.zeros((len(sorted_index)), dtype = torch.float64)\n",
    "    is_obj_already_detected = [False for _ in range(ground_truth_box.shape[0])]\n",
    "    \n",
    "    for box_number in range(len(sorted_index)):\n",
    "        get_predicted_box = predicted_box[box_number, :]\n",
    "\n",
    "        ixmin = torch.max(ground_truth_box[:, 0], get_predicted_box[0])\n",
    "        iymin = torch.max(ground_truth_box[:, 1], get_predicted_box[1])\n",
    "        ixmax = torch.min(ground_truth_box[:, 2], get_predicted_box[2])\n",
    "        iymax = torch.min(ground_truth_box[:, 3], get_predicted_box[3])\n",
    "        \n",
    "        width = torch.max(ixmax - ixmin + 1., torch.tensor(0.))\n",
    "        height = torch.max(iymax - iymin + 1., torch.tensor(0.))\n",
    "        \n",
    "        intersection_area = width * height\n",
    "        \n",
    "        union = ((get_predicted_box[2] - get_predicted_box[0] + 1.) * (get_predicted_box[3] - get_predicted_box[1] + 1.) +\n",
    "                 (ground_truth_box[:, 2] - ground_truth_box[:, 0] + 1.) *\n",
    "                 (ground_truth_box[:, 3] - ground_truth_box[:, 1] + 1.) - intersection_area)\n",
    "        \n",
    "        intersection_over_union = intersection_area / union\n",
    "\n",
    "        is_pass_threshold, max_iou_index = torch.max(intersection_over_union) >= intersection_threshold, \\\n",
    "            torch.argmax(intersection_over_union)\n",
    "        \n",
    "        if is_pass_threshold and not is_obj_already_detected[max_iou_index]:\n",
    "            true_positive[box_number] = 1\n",
    "            is_obj_already_detected[max_iou_index] = True\n",
    "        else:\n",
    "            false_positive[box_number] = 1\n",
    "            \n",
    "    true_positive_list = torch.cumsum(true_positive, dim = 0)\n",
    "    false_positive_list = torch.cumsum(false_positive, dim = 0)\n",
    "    false_negative_list = ground_truth_box.shape[0] - true_positive\n",
    "    \n",
    "    print(true_positive_list)\n",
    "    print(false_positive_list)\n",
    "    print(false_negative_list)\n",
    "    \n",
    "    precision = true_positive_list / (\n",
    "        false_positive_list + true_positive_list + torch.finfo(torch.float64).eps\n",
    "    )\n",
    "    \n",
    "    recall = true_positive_list / (\n",
    "        true_positive_list + false_negative_list + torch.finfo(torch.float64).eps\n",
    "    )\n",
    "    \n",
    "    average_precision = torch.tensor(0.)\n",
    "    \n",
    "    if precision is None or recall is None:\n",
    "        average_precision = torch.tensor(np.nan)\n",
    "    \n",
    "    for level in recall_level:\n",
    "        recall_check = recall >= level\n",
    "        \n",
    "        if torch.sum(recall_check) == 0:\n",
    "            val = torch.tensor(0.)\n",
    "        else:\n",
    "            # Get list of precision where is true then find maximum number\n",
    "            val = torch.max(precision[recall_check])\n",
    "        \n",
    "        average_precision = average_precision + val\n",
    "    \n",
    "    average_precision = average_precision / recall_level.shape[0]\n",
    "    \n",
    "    print(recall, precision)\n",
    "    \n",
    "    plt.plot(recall, precision)\n",
    "    plt.xlabel('recall')\n",
    "    plt.ylabel('precision')\n",
    "    fig_name = \"recall prec curve\"\n",
    "    plt.savefig(\"show\" + fig_name, bbox_inches = 'tight')"
   ]
  },
  {
   "cell_type": "code",
   "execution_count": 6,
   "id": "49df8051",
   "metadata": {},
   "outputs": [],
   "source": [
    "def get_iou(predicted_dbox, ground_truth_dboxes):\n",
    "    \"\"\"\n",
    "        Calculates IoU (Jaccard index) of two detection boxes:\n",
    "            predicted_dbox ∩ ground_truth_dbox / (area(predicted_dbox) +\n",
    "            area(ground_truth_dbox) - predicted_dbox ∩ ground_truth_dbox)\n",
    "\n",
    "        Parameters:\n",
    "            Coordinates of detection boxes are supposed to be in the following form: [x1, y1, x2, y2]\n",
    "            predicted_dbox: [tensor] predicted detection boxes\n",
    "            ground_truth_dboxes: [tensor] ground truth detection boxes\n",
    "\n",
    "        Return value:\n",
    "            overlap area\n",
    "    \"\"\"\n",
    "    \n",
    "    ixmin = torch.max(ground_truth_dboxes[:, 0], predicted_dbox[0])\n",
    "    iymin = torch.max(ground_truth_dboxes[:, 1], predicted_dbox[1])\n",
    "    ixmax = torch.min(ground_truth_dboxes[:, 2], predicted_dbox[2])\n",
    "    iymax = torch.min(ground_truth_dboxes[:, 3], predicted_dbox[3])\n",
    "    # except:\n",
    "    # print('GT:', ground_truth_dboxes)\n",
    "    # print('PR:', predicted_dbox)\n",
    "    # raise\n",
    "\n",
    "    width = torch.max(ixmax - ixmin + 1., torch.tensor(0.))\n",
    "    height = torch.max(iymax - iymin + 1., torch.tensor(0.))\n",
    "    intersection_area = width * height\n",
    "\n",
    "    union = ((predicted_dbox[2] - predicted_dbox[0] + 1.) * (predicted_dbox[3] - predicted_dbox[1] + 1.) +\n",
    "             (ground_truth_dboxes[:, 2] - ground_truth_dboxes[:, 0] + 1.) *\n",
    "             (ground_truth_dboxes[:, 3] - ground_truth_dboxes[:, 1] + 1.) - intersection_area)\n",
    "\n",
    "    return intersection_area / union"
   ]
  },
  {
   "cell_type": "code",
   "execution_count": 7,
   "id": "12dd286b",
   "metadata": {},
   "outputs": [],
   "source": [
    "def check_iou_threshold(predicted_dboxes, ground_truth_dboxes, intersection_threshold):\n",
    "    \"\"\"\n",
    "        Get the predictions with an appropriate IoU area for further true positives computations\n",
    "\n",
    "        Parameters:\n",
    "        predicted_dboxes: predicted by the detector detection boxes\n",
    "        ground_truth_dboxes: ground truth\n",
    "        intersection_threshold: IoU threshold\n",
    "\n",
    "        Return value:\n",
    "            tensor with the following values:\n",
    "                    True - if the IoU passed defined threshold\n",
    "                    False - if the IoU did not pass defined threshold\n",
    "            index of the maximum IoU value\n",
    "    \"\"\"\n",
    "    intersection_over_union = get_iou(predicted_dboxes, ground_truth_dboxes)\n",
    "    return torch.max(intersection_over_union) >= intersection_threshold, torch.argmax(intersection_over_union)"
   ]
  },
  {
   "cell_type": "code",
   "execution_count": 8,
   "id": "754064cf",
   "metadata": {},
   "outputs": [],
   "source": [
    "def match(sorted_ind, predicted_dboxes, ground_truth_dboxes, intersection_threshold):\n",
    "    \n",
    "    true_positives = torch.zeros((len(sorted_ind)), dtype=torch.float64)\n",
    "    false_positives = torch.zeros((len(sorted_ind)), dtype=torch.float64)\n",
    "    is_obj_already_detected = [False for _ in range(ground_truth_dboxes.shape[0])]\n",
    "\n",
    "    for box_num in range(len(sorted_ind)):\n",
    "        predicted_dbox = predicted_dboxes[box_num, :]\n",
    "\n",
    "        is_pass_threshold, max_iou_index = check_iou_threshold(\n",
    "            predicted_dbox, ground_truth_dboxes, intersection_threshold\n",
    "        )\n",
    "        \n",
    "        if is_pass_threshold and not is_obj_already_detected[max_iou_index]:\n",
    "            true_positives[box_num] = 1\n",
    "            is_obj_already_detected[max_iou_index] = True\n",
    "        else:\n",
    "            false_positives[box_num] = 1\n",
    "\n",
    "    return true_positives, false_positives"
   ]
  },
  {
   "cell_type": "code",
   "execution_count": 9,
   "id": "309b7760",
   "metadata": {},
   "outputs": [],
   "source": [
    "class AveragePrecisionEvaluator:\n",
    "    def __init__(self, intersection_threshold=0.5, points_number=11):\n",
    "        self.recall_levels = torch.linspace(0, 1, points_number)\n",
    "        self.intersection_threshold = intersection_threshold\n",
    "        self.recalls = None\n",
    "        self.precisions = None\n",
    "        self.average_precision = 0.\n",
    "        self.true_positives = None\n",
    "        self.false_positives = None\n",
    "        self.false_negatives = None\n",
    "\n",
    "    def run_ap_calculation(self, predicted_dboxes, predicted_dbox_score, ground_truth_dboxes):\n",
    "        \"\"\"\n",
    "            Initiate AP calculation process\n",
    "\n",
    "            Parameters:\n",
    "                predicted_dboxes: predicted detection boxes\n",
    "                predicted_dbox_score: confidence scores of detection boxes\n",
    "                ground_truth_dboxes: ground truth boxes\n",
    "        \"\"\"\n",
    "        sorted_ind = np.argsort(-predicted_dbox_score)\n",
    "        predicted_dboxes = predicted_dboxes[sorted_ind, :]\n",
    "        true_positives = torch.zeros((len(sorted_ind)), dtype=torch.float64)\n",
    "        false_positives = torch.zeros((len(sorted_ind)), dtype=torch.float64)\n",
    "\n",
    "        if len(ground_truth_dboxes) == 0:\n",
    "            false_positives = torch.ones((len(sorted_ind)), dtype=torch.float64)\n",
    "        else:\n",
    "            true_positives, false_positives = match(\n",
    "                sorted_ind, predicted_dboxes, ground_truth_dboxes, self.intersection_threshold\n",
    "            )\n",
    "\n",
    "        self.true_positives = torch.cumsum(true_positives, dim=0)\n",
    "        self.false_positives = torch.cumsum(false_positives, dim=0)\n",
    "        self.false_negatives = ground_truth_dboxes.shape[0] - self.true_positives\n",
    "        \n",
    "        print(self.true_positives)\n",
    "        print(self.false_positives)\n",
    "        print(self.false_negatives)\n",
    "        \n",
    "        # with np.errstate(divide='ignore', invalid='ignore'):\n",
    "        self.precisions = self.true_positives / (\n",
    "            self.false_positives + self.true_positives + torch.finfo(torch.float64).eps\n",
    "        )\n",
    "\n",
    "        # with np.errstate(divide='ignore', invalid='ignore'):\n",
    "        self.recalls = self.true_positives / (\n",
    "            self.true_positives + self.false_negatives + torch.finfo(torch.float64).eps\n",
    "        )\n",
    "\n",
    "        return self.get_voc_ap()\n",
    "\n",
    "    def get_voc_ap(self):\n",
    "        \"\"\"\n",
    "            Evaluates VOC Mean Average Precision\n",
    "\n",
    "        \"\"\"\n",
    "        self.average_precision = torch.tensor(0.)\n",
    "        if self.precisions is None or self.recalls is None:\n",
    "            self.average_precision = torch.tensor(np.nan)\n",
    "\n",
    "        for recall_level in self.recall_levels:\n",
    "            recalls_check = self.recalls >= recall_level\n",
    "            if torch.sum(recalls_check) == 0:\n",
    "                val = torch.tensor(0.)\n",
    "            else:\n",
    "                val = torch.max(self.precisions[recalls_check])\n",
    "            self.average_precision = self.average_precision + val\n",
    "\n",
    "        self.average_precision = self.average_precision / float(self.recall_levels.shape[0])\n",
    "\n",
    "        return self.average_precision\n",
    "\n",
    "    def precision_recall_curve(self, experiment_name):\n",
    "        \"\"\"\n",
    "            Precision-recall curve visualization for specified class\n",
    "\n",
    "            Parameters:\n",
    "                experiment_name: title of the running experiment\n",
    "        \"\"\"\n",
    "        plt.plot(self.recalls, self.precisions)\n",
    "        plt.xlabel('recall')\n",
    "        plt.ylabel('precision')\n",
    "        fig_name = \"_rec_prec_curve\"\n",
    "        plt.savefig(experiment_name + fig_name, bbox_inches='tight')\n",
    "\n",
    "    def visualize_results(self, experiment_name, is_chart=False):\n",
    "        \"\"\"\n",
    "            Summarized visualization of obtained results\n",
    "\n",
    "            Parameters:\n",
    "                experiment_name: title of the running experiment\n",
    "                is_chart: flag for chart visualization\n",
    "        \"\"\"\n",
    "        if is_chart:\n",
    "            self.precision_recall_curve(experiment_name)\n",
    "        print(\n",
    "            \"=== {}:\\n recall: {}, \\n precision: {}, \\n VOC mAP: {}\".format(\n",
    "                experiment_name, self.recalls, self.precisions, self.average_precision\n",
    "            )\n",
    "        )"
   ]
  },
  {
   "cell_type": "code",
   "execution_count": 10,
   "id": "ba1b8c70",
   "metadata": {},
   "outputs": [],
   "source": [
    "def check_ap():\n",
    "    # pylint: disable=not-callable\n",
    "    # ground truth\n",
    "    ground_truth_dboxes = torch.tensor([[8, 12, 352, 498], [10, 15, 450, 500]], dtype=torch.float)\n",
    "\n",
    "    # predicted results\n",
    "    test_dboxes_predicted = torch.tensor([\n",
    "        [1.000000, 116.384613, 353.000000, 116.384613], [1.000000, 1.000000, 353.000000, 500.000000],\n",
    "        [9.000000, 14.000000, 452.500000, 500.500000], [1.000000, 154.846161, 353.000000, 154.846161],\n",
    "        [196.776474, 231.769226, 196.776474, 231.769226], [1.000000, 116.384613, 353.000000, 116.384613],\n",
    "        [1.000000, 1.000000, 353.000000, 500.000000], [1.000000, 231.769226, 353.000000, 231.769226],\n",
    "        [45.000000, 235.230774, 175.000000, 361.230774], [44.500000, 234.230774, 176.000000, 362.230774]\n",
    "    ],\n",
    "                                         dtype=torch.float)\n",
    "\n",
    "    predicted_scores = torch.tensor([\n",
    "        0.180000, 0.985000, 0.98000, 0.200000, 0.090000, 0.170000, 0.570000, 0.210000, 0.855000, 0.850000\n",
    "    ],\n",
    "                                    dtype=torch.float)\n",
    "\n",
    "    # run check\n",
    "    ap_evaluator = AveragePrecisionEvaluator()\n",
    "    ap_evaluator.run_ap_calculation(test_dboxes_predicted, predicted_scores, ground_truth_dboxes)\n",
    "    ap_evaluator.visualize_results(experiment_name=\"first_exp\", is_chart=True)"
   ]
  },
  {
   "cell_type": "code",
   "execution_count": 11,
   "id": "b8323b5c",
   "metadata": {},
   "outputs": [
    {
     "name": "stdout",
     "output_type": "stream",
     "text": [
      "tensor([1., 2., 2., 2., 2., 2., 2., 2., 2., 2.], dtype=torch.float64)\n",
      "tensor([0., 0., 1., 2., 3., 4., 5., 6., 7., 8.], dtype=torch.float64)\n",
      "tensor([1., 0., 0., 0., 0., 0., 0., 0., 0., 0.], dtype=torch.float64)\n",
      "=== first_exp:\n",
      " recall: tensor([0.5000, 1.0000, 1.0000, 1.0000, 1.0000, 1.0000, 1.0000, 1.0000, 1.0000,\n",
      "        1.0000], dtype=torch.float64), \n",
      " precision: tensor([1.0000, 1.0000, 0.6667, 0.5000, 0.4000, 0.3333, 0.2857, 0.2500, 0.2222,\n",
      "        0.2000], dtype=torch.float64), \n",
      " VOC mAP: 1.0\n"
     ]
    },
    {
     "data": {
      "image/png": "[encoded data removed]",
      "text/plain": [
       "<Figure size 640x480 with 1 Axes>"
      ]
     },
     "metadata": {},
     "output_type": "display_data"
    }
   ],
   "source": [
    "if __name__ == '__main__':\n",
    "    check_ap()"
   ]
  }
 ],
 "metadata": {
  "kernelspec": {
   "display_name": "Python 3 (ipykernel)",
   "language": "python",
   "name": "python3"
  },
  "language_info": {
   "codemirror_mode": {
    "name": "ipython",
    "version": 3
   },
   "file_extension": ".py",
   "mimetype": "text/x-python",
   "name": "python",
   "nbconvert_exporter": "python",
   "pygments_lexer": "ipython3",
   "version": "3.9.18"
  }
 },
 "nbformat": 4,
 "nbformat_minor": 5
}
