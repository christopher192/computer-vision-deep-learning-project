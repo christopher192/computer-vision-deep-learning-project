{
 "cells": [
  {
   "cell_type": "markdown",
   "metadata": {},
   "source": [
    "### Object detection with Haar Cascade Classifier\n",
    "\n",
    "Haar Cascade classifier is an effective object detection approach which was proposed by Paul Viola and Michael Jones in their paper. Rapid Object Detection using a Boosted Cascade of Simple Features in 2001. It`s machine learning based approach where a cascade function is trained from a lot of images both positive and negative. They are huge individual .xml files with a lot of feature sets and each xml corresponds to a very specific type of use case, you can visit their [github](https://github.com/opencv/opencv/tree/master/data/haarcascades) page for more detail. "
   ]
  },
  {
   "cell_type": "code",
   "execution_count": 11,
   "metadata": {},
   "outputs": [],
   "source": [
    "import cv2\n",
    "import numpy as np"
   ]
  },
  {
   "cell_type": "markdown",
   "metadata": {},
   "source": [
    "#### Cat Detection with OpenCV and Cascade Classifier\n",
    "\n",
    "scaleFactor - Image pyramid used when detecting the object. Larger scale factor will increase the speed of the detector, but could harm our true-positive detection accuracy. Conversely, a smaller scale will slow down the detection process, but increase true-positive detections and also increase the false-positive detection rate as well.\n",
    "\n",
    "minNeighbors - Control the minimum number of detected bounding boxes in a given area for the region to be considered. Good for pruning false-positive detections.\n",
    "\n",
    "minSize - Ensure detected bounding box is at least width x height pixels."
   ]
  },
  {
   "cell_type": "code",
   "execution_count": 26,
   "metadata": {},
   "outputs": [
    {
     "name": "stdout",
     "output_type": "stream",
     "text": [
      "Number of detected cat faces: 2\n"
     ]
    }
   ],
   "source": [
    "image = cv2.imread(\"two-cats.jpg\")\n",
    "gray = cv2.cvtColor(image, cv2.COLOR_BGR2GRAY)\n",
    "\n",
    "detector = cv2.CascadeClassifier(\"haarcascade_frontalcatface.xml\")\n",
    "\n",
    "rects = detector.detectMultiScale(gray, scaleFactor = 1.1, minNeighbors = 3, minSize = (75, 75))\n",
    "\n",
    "print('Number of detected cat faces:', len(rects))\n",
    "\n",
    "for (i, (x, y, w, h)) in enumerate(rects):\n",
    "    cv2.rectangle(image, (x, y), (x + w, y + h), (0, 255, 255), 2)\n",
    "    cv2.putText(image, 'cat found', (x, y - 3), cv2.FONT_HERSHEY_SIMPLEX, 0.5, (0, 255, 0), 1)\n",
    "\n",
    "cv2.imshow(\"Cat Faces\", image)\n",
    "cv2.waitKey(0)\n",
    "cv2.destroyAllWindows()"
   ]
  },
  {
   "cell_type": "markdown",
   "metadata": {},
   "source": [
    "#### Reference\n",
    "\n",
    "https://towardsdatascience.com/computer-vision-detecting-objects-using-haar-cascade-classifier-4585472829a9<br>\n",
    "https://docs.opencv.org/3.4/db/d28/tutorial_cascade_classifier.html<br>\n",
    "https://pyimagesearch.com/2016/06/20/detecting-cats-in-images-with-opencv/<br>\n",
    "https://github.com/krishnaik06/Computer-Vision-Tutorial<br>\n",
    "https://www.tutorialspoint.com/how-to-detect-cat-faces-in-an-image-in-opencv-using-python"
   ]
  }
 ],
 "metadata": {
  "kernelspec": {
   "display_name": "tensorflow",
   "language": "python",
   "name": "python3"
  },
  "language_info": {
   "codemirror_mode": {
    "name": "ipython",
    "version": 3
   },
   "file_extension": ".py",
   "mimetype": "text/x-python",
   "name": "python",
   "nbconvert_exporter": "python",
   "pygments_lexer": "ipython3",
   "version": "3.9.18"
  },
  "orig_nbformat": 4
 },
 "nbformat": 4,
 "nbformat_minor": 2
}
