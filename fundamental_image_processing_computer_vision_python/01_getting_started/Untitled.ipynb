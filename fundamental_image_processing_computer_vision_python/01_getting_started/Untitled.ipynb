{
 "cells": [
  {
   "cell_type": "code",
   "execution_count": 1,
   "id": "70b31981",
   "metadata": {},
   "outputs": [],
   "source": [
    "import cv2\n",
    "import numpy as np\n",
    "import matplotlib.pyplot as plt\n",
    "%matplotlib inline"
   ]
  },
  {
   "cell_type": "code",
   "execution_count": 2,
   "id": "82c624e5",
   "metadata": {},
   "outputs": [],
   "source": [
    "import matplotlib\n",
    "matplotlib.rcParams['figure.figsize'] = (6.0, 6.0)\n",
    "matplotlib.rcParams['image.cmap'] = 'gray'"
   ]
  },
  {
   "cell_type": "markdown",
   "id": "ec06cf63",
   "metadata": {},
   "source": [
    "### 1. Read image"
   ]
  },
  {
   "cell_type": "code",
   "execution_count": 3,
   "id": "70a3d959",
   "metadata": {},
   "outputs": [],
   "source": [
    "# Initialize image path\n",
    "image_path = \"data/image/number_zero.jpg\""
   ]
  },
  {
   "cell_type": "code",
   "execution_count": 4,
   "id": "4e2d3a40",
   "metadata": {},
   "outputs": [
    {
     "data": {
      "text/plain": [
       "array([[  1,   0,   3,   0,   3,   0,   3,   2,   4,   2,   0],\n",
       "       [  0,   1,   0,   3,   3, 253, 253,   0,   0,   2,   1],\n",
       "       [  0,   0,   8,   0, 249, 255, 255, 253,  71,   1,   5],\n",
       "       [  3,   0,   2, 251, 255,   2,   0, 253, 254,   0,   2],\n",
       "       [  1,   5,   0, 252,   4,   0,   3,   0, 255,   4,   0],\n",
       "       [  0,   0,   2, 255,   0,   0,   0,   3, 253,   0,   4],\n",
       "       [  0,   5,   4, 249,   4,   2,   0,   0, 255,   1,   0],\n",
       "       [  2,   0,   0, 255,   3,   0,   5,   0, 254,   0,   4],\n",
       "       [  0,   0,   0, 255,   1,   0,   0,   3, 255,   0,   0],\n",
       "       [  1,   5,   0, 252,   2,   2,   2,  76, 250,   7,   0],\n",
       "       [  0,   0,   5,   0, 254,   0,   0, 255, 254,   0,   1],\n",
       "       [  0,   8,   0,   3, 253, 253, 255, 250,   1,   2,   1],\n",
       "       [  2,   0,   0,   0,   5,   0,   4,   1,   3,   0,   0]],\n",
       "      dtype=uint8)"
      ]
     },
     "execution_count": 4,
     "metadata": {},
     "output_type": "execute_result"
    }
   ],
   "source": [
    "# Read image in grayscale format\n",
    "image = cv2.imread(image_path, 0)\n",
    "image"
   ]
  },
  {
   "cell_type": "code",
   "execution_count": 5,
   "id": "febf1b6b",
   "metadata": {},
   "outputs": [
    {
     "name": "stdout",
     "output_type": "stream",
     "text": [
      "Data type = uint8\n",
      "Object type = <class 'numpy.ndarray'>\n",
      "Image Dimension = (13, 11)\n"
     ]
    }
   ],
   "source": [
    "# Image property\n",
    "print(\"Data type = {}\".format(image.dtype))\n",
    "print(\"Object type = {}\".format(type(image)))\n",
    "print(\"Image Dimension = {}\".format(image.shape))"
   ]
  },
  {
   "cell_type": "markdown",
   "id": "68a11e6e",
   "metadata": {},
   "source": [
    "### 2. Manipulating pixel"
   ]
  },
  {
   "cell_type": "code",
   "execution_count": 6,
   "id": "638a806f",
   "metadata": {},
   "outputs": [
    {
     "name": "stdout",
     "output_type": "stream",
     "text": [
      "1\n"
     ]
    }
   ],
   "source": [
    "print(image[0, 0])"
   ]
  },
  {
   "cell_type": "code",
   "execution_count": 7,
   "id": "c5cc48f4",
   "metadata": {},
   "outputs": [
    {
     "name": "stdout",
     "output_type": "stream",
     "text": [
      "[[200   0   3   0   3   0   3   2   4   2   0]\n",
      " [  0   1   0   3   3 253 253   0   0   2   1]\n",
      " [  0   0   8   0 249 255 255 253  71   1   5]\n",
      " [  3   0   2 251 255   2   0 253 254   0   2]\n",
      " [  1   5   0 252   4   0   3   0 255   4   0]\n",
      " [  0   0   2 255   0   0   0   3 253   0   4]\n",
      " [  0   5   4 249   4   2   0   0 255   1   0]\n",
      " [  2   0   0 255   3   0   5   0 254   0   4]\n",
      " [  0   0   0 255   1   0   0   3 255   0   0]\n",
      " [  1   5   0 252   2   2   2  76 250   7   0]\n",
      " [  0   0   5   0 254   0   0 255 254   0   1]\n",
      " [  0   8   0   3 253 253 255 250   1   2   1]\n",
      " [  2   0   0   0   5   0   4   1   3   0   0]]\n"
     ]
    }
   ],
   "source": [
    "image[0, 0] = 200\n",
    "\n",
    "print(image)"
   ]
  },
  {
   "cell_type": "markdown",
   "id": "85c49f69",
   "metadata": {},
   "source": [
    "### 3. Manipulating group of pixel"
   ]
  },
  {
   "cell_type": "code",
   "execution_count": 8,
   "id": "616315c5",
   "metadata": {},
   "outputs": [
    {
     "name": "stdout",
     "output_type": "stream",
     "text": [
      "Original Matrix: [[200   0   3   0   3   0   3   2   4   2   0]\n",
      " [  0   1   0   3   3 253 253   0   0   2   1]\n",
      " [  0   0   8   0 249 255 255 253  71   1   5]\n",
      " [  3   0   2 251 255   2   0 253 254   0   2]\n",
      " [  1   5   0 252   4   0   3   0 255   4   0]\n",
      " [  0   0   2 255   0   0   0   3 253   0   4]\n",
      " [  0   5   4 249   4   2   0   0 255   1   0]\n",
      " [  2   0   0 255   3   0   5   0 254   0   4]\n",
      " [  0   0   0 255   1   0   0   3 255   0   0]\n",
      " [  1   5   0 252   2   2   2  76 250   7   0]\n",
      " [  0   0   5   0 254   0   0 255 254   0   1]\n",
      " [  0   8   0   3 253 253 255 250   1   2   1]\n",
      " [  2   0   0   0   5   0   4   1   3   0   0]]\n",
      "Selected Region: [[200   0   3   0]\n",
      " [  0   1   0   3]]\n"
     ]
    }
   ],
   "source": [
    "# Access region\n",
    "test_roi = image[0:2, 0:4]\n",
    "\n",
    "print(\"Original Matrix: {}\".format(image))\n",
    "print(\"Selected Region: {}\".format(test_roi))"
   ]
  },
  {
   "cell_type": "code",
   "execution_count": 10,
   "id": "26252d3f",
   "metadata": {},
   "outputs": [
    {
     "name": "stdout",
     "output_type": "stream",
     "text": [
      "Modified Matrix\n",
      "[[111 111 111 111   3   0   3   2   4   2   0]\n",
      " [111 111 111 111   3 253 253   0   0   2   1]\n",
      " [  0   0   8   0 249 255 255 253  71   1   5]\n",
      " [  3   0   2 251 255   2   0 253 254   0   2]\n",
      " [  1   5   0 252   4   0   3   0 255   4   0]\n",
      " [  0   0   2 255   0   0   0   3 253   0   4]\n",
      " [  0   5   4 249   4   2   0   0 255   1   0]\n",
      " [  2   0   0 255   3   0   5   0 254   0   4]\n",
      " [  0   0   0 255   1   0   0   3 255   0   0]\n",
      " [  1   5   0 252   2   2   2  76 250   7   0]\n",
      " [  0   0   5   0 254   0   0 255 254   0   1]\n",
      " [  0   8   0   3 253 253 255 250   1   2   1]\n",
      " [  2   0   0   0   5   0   4   1   3   0   0]]\n",
      "\n"
     ]
    }
   ],
   "source": [
    "# Modify region\n",
    "image[0:2, 0:4] = 111\n",
    "\n",
    "print(\"Modified Matrix\\n{}\\n\".format(image))"
   ]
  }
 ],
 "metadata": {
  "kernelspec": {
   "display_name": "Python 3 (ipykernel)",
   "language": "python",
   "name": "python3"
  },
  "language_info": {
   "codemirror_mode": {
    "name": "ipython",
    "version": 3
   },
   "file_extension": ".py",
   "mimetype": "text/x-python",
   "name": "python",
   "nbconvert_exporter": "python",
   "pygments_lexer": "ipython3",
   "version": "3.9.18"
  }
 },
 "nbformat": 4,
 "nbformat_minor": 5
}
